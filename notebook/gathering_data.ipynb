{
 "cells": [
  {
   "cell_type": "markdown",
   "id": "39f77e1e",
   "metadata": {},
   "source": [
    "## Downloading images"
   ]
  },
  {
   "cell_type": "code",
   "execution_count": null,
   "id": "1da9343f",
   "metadata": {},
   "outputs": [],
   "source": [
    "!pip install bing-image-downloader"
   ]
  },
  {
   "cell_type": "code",
   "execution_count": 2,
   "id": "696e361e",
   "metadata": {},
   "outputs": [],
   "source": [
    "pizza = ['yummy pizza','what a lot of pizza', 'pizza slice', 'multiple pizza', 'many pizza', 'homemade pizza', 'cheese pizza']"
   ]
  },
  {
   "cell_type": "code",
   "execution_count": 3,
   "id": "8e818872",
   "metadata": {},
   "outputs": [],
   "source": [
    "pasta = ['simple pasta', 'pasta', 'pasta dish recipe','spaghetti', 'spaghetti sauce', 'spaghetti bolognese', 'bowl of pasta']"
   ]
  },
  {
   "cell_type": "code",
   "execution_count": 4,
   "id": "3fd3a53f",
   "metadata": {
    "scrolled": true
   },
   "outputs": [],
   "source": [
    "from bing_image_downloader import downloader"
   ]
  },
  {
   "cell_type": "code",
   "execution_count": 7,
   "id": "0d37ac1e",
   "metadata": {
    "scrolled": true
   },
   "outputs": [],
   "source": [
    "for one_pizza in pizza:\n",
    "    downloader.download(one_pizza, limit=100, output_dir=\"./pizza/\")"
   ]
  },
  {
   "cell_type": "code",
   "execution_count": null,
   "id": "7828c0c8",
   "metadata": {},
   "outputs": [],
   "source": [
    "for one_pasta in pasta:\n",
    "    downloader.download(one_pasta, limit=100, output_dir=\"./pasta/\")"
   ]
  }
 ],
 "metadata": {
  "kernelspec": {
   "display_name": "Python 3 (ipykernel)",
   "language": "python",
   "name": "python3"
  },
  "language_info": {
   "codemirror_mode": {
    "name": "ipython",
    "version": 3
   },
   "file_extension": ".py",
   "mimetype": "text/x-python",
   "name": "python",
   "nbconvert_exporter": "python",
   "pygments_lexer": "ipython3",
   "version": "3.10.9"
  }
 },
 "nbformat": 4,
 "nbformat_minor": 5
}
